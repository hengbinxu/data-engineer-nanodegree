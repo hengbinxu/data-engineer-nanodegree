{
 "cells": [
  {
   "cell_type": "markdown",
   "metadata": {},
   "source": [
    "# Part I. ETL Pipeline for Pre-Processing the Files"
   ]
  },
  {
   "cell_type": "markdown",
   "metadata": {},
   "source": [
    "## PLEASE RUN THE FOLLOWING CODE FOR PRE-PROCESSING THE FILES"
   ]
  },
  {
   "cell_type": "markdown",
   "metadata": {},
   "source": [
    "#### Import Python packages "
   ]
  },
  {
   "cell_type": "code",
   "execution_count": 1,
   "metadata": {},
   "outputs": [],
   "source": [
    "# Import Python packages \n",
    "import re, os, csv, glob, json\n",
    "\n",
    "import cassandra\n",
    "import numpy as np\n",
    "import pandas as pd"
   ]
  },
  {
   "cell_type": "markdown",
   "metadata": {},
   "source": [
    "#### Creating list of filepaths to process original event csv data files"
   ]
  },
  {
   "cell_type": "code",
   "execution_count": 2,
   "metadata": {},
   "outputs": [
    {
     "name": "stdout",
     "output_type": "stream",
     "text": [
      "/Users/heng-bin/python_scripts/de_course/data_modeling/modeling_with_cassandra\n"
     ]
    }
   ],
   "source": [
    "# checking your current working directory\n",
    "print(os.getcwd())\n",
    "\n",
    "# Get your current folder and subfolder event data\n",
    "filepath = os.getcwd() + '/event_data'\n",
    "\n",
    "# Create a for loop to create a list of files and collect each filepath\n",
    "for root, dirs, files in os.walk(filepath):\n",
    "    \n",
    "# join the file path and roots with the subdirectories using glob\n",
    "    file_path_list = glob.glob(os.path.join(root,'*'))\n",
    "    #print(file_path_list)"
   ]
  },
  {
   "cell_type": "markdown",
   "metadata": {},
   "source": [
    "#### Processing the files to create the data file csv that will be used for Apache Casssandra tables"
   ]
  },
  {
   "cell_type": "code",
   "execution_count": 3,
   "metadata": {},
   "outputs": [],
   "source": [
    "# initiating an empty list of rows that will be generated from each file\n",
    "full_data_rows_list = [] \n",
    "    \n",
    "# for every filepath in the file path list \n",
    "for f in file_path_list:\n",
    "\n",
    "# reading csv file \n",
    "    with open(f, 'r', encoding = 'utf8', newline='') as csvfile: \n",
    "        # creating a csv reader object \n",
    "        csvreader = csv.reader(csvfile) \n",
    "        next(csvreader)\n",
    "        \n",
    " # extracting each data row one by one and append it        \n",
    "        for line in csvreader:\n",
    "            #print(line)\n",
    "            full_data_rows_list.append(line) \n",
    "            \n",
    "# uncomment the code below if you would like to get total number of rows \n",
    "#print(len(full_data_rows_list))\n",
    "# uncomment the code below if you would like to check to see what the list of event data rows will look like\n",
    "#print(full_data_rows_list)\n",
    "\n",
    "# creating a smaller event data csv file called event_datafile_full csv that will be used to insert data into the \\\n",
    "# Apache Cassandra tables\n",
    "csv.register_dialect('myDialect', quoting=csv.QUOTE_ALL, skipinitialspace=True)\n",
    "\n",
    "with open('event_datafile_new.csv', 'w', encoding = 'utf8', newline='') as f:\n",
    "    writer = csv.writer(f, dialect='myDialect')\n",
    "    writer.writerow(['artist','firstName','gender','itemInSession','lastName','length',\\\n",
    "                'level','location','sessionId','song','userId'])\n",
    "    for row in full_data_rows_list:\n",
    "        if (row[0] == ''):\n",
    "            continue\n",
    "        writer.writerow((row[0], row[2], row[3], row[4], row[5], row[6], row[7], row[8], row[12], row[13], row[16]))\n"
   ]
  },
  {
   "cell_type": "code",
   "execution_count": 4,
   "metadata": {},
   "outputs": [
    {
     "name": "stdout",
     "output_type": "stream",
     "text": [
      "6821\n"
     ]
    }
   ],
   "source": [
    "# check the number of rows in your csv file\n",
    "with open('event_datafile_new.csv', 'r', encoding = 'utf8') as f:\n",
    "    print(sum(1 for line in f))"
   ]
  },
  {
   "cell_type": "markdown",
   "metadata": {},
   "source": [
    "# Part II. Complete the Apache Cassandra coding portion of your project. \n",
    "\n",
    "## Now you are ready to work with the CSV file titled <font color=red>event_datafile_new.csv</font>, located within the Workspace directory.  The event_datafile_new.csv contains the following columns: \n",
    "- artist \n",
    "- firstName of user\n",
    "- gender of user\n",
    "- item number in session\n",
    "- last name of user\n",
    "- length of the song\n",
    "- level (paid or free song)\n",
    "- location of the user\n",
    "- sessionId\n",
    "- song title\n",
    "- userId\n",
    "\n",
    "The image below is a screenshot of what the denormalized data should appear like in the <font color=red>**event_datafile_new.csv**</font> after the code above is run:<br>\n",
    "\n",
    "<img src=\"images/image_event_datafile_new.jpg\">"
   ]
  },
  {
   "cell_type": "markdown",
   "metadata": {},
   "source": [
    "## Begin writing your Apache Cassandra code in the cells below"
   ]
  },
  {
   "cell_type": "markdown",
   "metadata": {},
   "source": [
    "#### Creating a Cluster"
   ]
  },
  {
   "cell_type": "code",
   "execution_count": 1,
   "metadata": {},
   "outputs": [
    {
     "name": "stdout",
     "output_type": "stream",
     "text": [
      "Connect default keyspace\n"
     ]
    }
   ],
   "source": [
    "# This should make a connection to a Cassandra instance your local machine \n",
    "# To establish connection and begin executing queries, need a session\n",
    "import csv\n",
    "from cassandra_manager import CassandraConn\n",
    "\n",
    "conn = CassandraConn()"
   ]
  },
  {
   "cell_type": "markdown",
   "metadata": {},
   "source": [
    "#### Create Keyspace"
   ]
  },
  {
   "cell_type": "code",
   "execution_count": 2,
   "metadata": {},
   "outputs": [],
   "source": [
    "key_space = 'user_events_log'\n",
    "replication_strategy = 'SimpleStrategy'\n",
    "replication_factor = 1\n",
    "conn.create_keyspace(key_space, replication_strategy, replication_factor)"
   ]
  },
  {
   "cell_type": "markdown",
   "metadata": {},
   "source": [
    "#### Set Keyspace"
   ]
  },
  {
   "cell_type": "code",
   "execution_count": 3,
   "metadata": {},
   "outputs": [
    {
     "name": "stdout",
     "output_type": "stream",
     "text": [
      "Switch keyspace from `default` to `user_events_log`\n"
     ]
    }
   ],
   "source": [
    "conn.switch_key_space(key_space)"
   ]
  },
  {
   "cell_type": "markdown",
   "metadata": {},
   "source": [
    "### Now we need to create tables to run the following queries. Remember, with Apache Cassandra you model the database tables on the queries you want to run."
   ]
  },
  {
   "cell_type": "markdown",
   "metadata": {},
   "source": [
    "## Create queries to ask the following three questions of the data\n",
    "\n",
    "### 1. Give me the artist, song title and song's length in the music app history that was heard during  sessionId = 338, and itemInSession  = 4\n",
    "\n",
    "\n",
    "### 2. Give me only the following: name of artist, song (sorted by itemInSession) and user (first and last name) for userid = 10, sessionid = 182\n",
    "    \n",
    "\n",
    "### 3. Give me every user name (first and last) in my music app history who listened to the song 'All Hands Against His Own'\n",
    "\n",
    "\n"
   ]
  },
  {
   "cell_type": "markdown",
   "metadata": {},
   "source": [
    "#### Drop and create user_session_records to meet query1."
   ]
  },
  {
   "cell_type": "code",
   "execution_count": 4,
   "metadata": {},
   "outputs": [
    {
     "data": {
      "text/plain": [
       "<cassandra.cluster.ResultSet at 0x105b63e50>"
      ]
     },
     "execution_count": 4,
     "metadata": {},
     "output_type": "execute_result"
    }
   ],
   "source": [
    "# Define the name of the table\n",
    "table_name = 'sessions'\n",
    "\n",
    "# Drop table if exists\n",
    "drop_table_template = \"drop table if exists {table_name}\"\n",
    "conn.session.execute(drop_table_template.format(table_name=table_name))\n",
    "\n",
    "# Create table if not exists\n",
    "create_table_stmt = \"\"\"\n",
    "    create table if not exists {table_name}(\n",
    "        session_id bigint,\n",
    "        item_in_session int,\n",
    "        artist text,\n",
    "        song_title text,\n",
    "        song_length float,\n",
    "        primary key (session_id, item_in_session)\n",
    "    )\n",
    "\"\"\"\n",
    "conn.session.execute(create_table_stmt.format(table_name=table_name))"
   ]
  },
  {
   "cell_type": "markdown",
   "metadata": {},
   "source": [
    "#### Insert all sessions data from csv file into database."
   ]
  },
  {
   "cell_type": "code",
   "execution_count": 5,
   "metadata": {},
   "outputs": [],
   "source": [
    "file = 'event_datafile_new.csv'\n",
    "table_name = 'sessions'\n",
    "\n",
    "# Read file and insert data into database.\n",
    "with open(file, 'r', encoding='utf-8') as rf:\n",
    "    csv_file = csv.reader(rf)\n",
    "    next(csv_file) # Skip header\n",
    "    for row in csv_file:\n",
    "        insert_data = {\n",
    "            'session_id': int(row[8]),\n",
    "            'item_in_session': int(row[3]),\n",
    "            'artist': row[0],\n",
    "            'song_title': row[9],\n",
    "            'song_length': float(row[5]),\n",
    "        }\n",
    "        conn.insert_data(table_name, insert_data)"
   ]
  },
  {
   "cell_type": "markdown",
   "metadata": {},
   "source": [
    "#### Validate results by getting `artist_name`, `song_title` and `song_length` in the music app history during `session_id = 338` and `item_in_session = 4`. \n",
    "\n",
    "#### The query should be presented as following:\n",
    "\n",
    "```sql\n",
    "select artist_name, song_title, song_length \n",
    "from sessions \n",
    "where session_id = 338 and item_in_session = 4\n",
    "```"
   ]
  },
  {
   "cell_type": "code",
   "execution_count": 6,
   "metadata": {
    "scrolled": true
   },
   "outputs": [
    {
     "name": "stdout",
     "output_type": "stream",
     "text": [
      "Row(artist='Faithless', song_title='Music Matters (Mark Knight Dub)', song_length=495.30731201171875)\n"
     ]
    }
   ],
   "source": [
    "table_name = 'sessions'\n",
    "select_columns = ['artist', 'song_title', 'song_length']\n",
    "where_condition = [\n",
    "    {'column_name': 'session_id', 'operator': '=', 'value': 338},\n",
    "    {'column_name': 'item_in_session', 'operator': '=', 'value': 4},\n",
    "]\n",
    "result = conn.select_query(table_name, where_condition, select_columns)\n",
    "\n",
    "for r in result:\n",
    "    print(r)"
   ]
  },
  {
   "cell_type": "markdown",
   "metadata": {},
   "source": [
    "### COPY AND REPEAT THE ABOVE THREE CELLS FOR EACH OF THE THREE QUESTIONS"
   ]
  },
  {
   "cell_type": "markdown",
   "metadata": {},
   "source": [
    "### Drop and create users to meet query2."
   ]
  },
  {
   "cell_type": "code",
   "execution_count": 16,
   "metadata": {},
   "outputs": [
    {
     "data": {
      "text/plain": [
       "<cassandra.cluster.ResultSet at 0x118b03150>"
      ]
     },
     "execution_count": 16,
     "metadata": {},
     "output_type": "execute_result"
    }
   ],
   "source": [
    "# Define the name of the table\n",
    "table_name = 'users'\n",
    "\n",
    "# Drop table if exists\n",
    "drop_table_template = \"drop table if exists {table_name}\"\n",
    "conn.session.execute(drop_table_template.format(table_name=table_name))\n",
    "\n",
    "# Create table if not exists\n",
    "create_table_stmt = \"\"\"\n",
    "    create table if not exists {table_name}(\n",
    "        user_id int,\n",
    "        session_id bigint,\n",
    "        item_in_session int,\n",
    "        artist text,\n",
    "        song_title text,\n",
    "        first_name text,\n",
    "        last_name text,\n",
    "        primary key ((user_id, session_id), item_in_session)\n",
    "    )\n",
    "\"\"\"\n",
    "conn.session.execute(create_table_stmt.format(table_name=table_name))"
   ]
  },
  {
   "cell_type": "markdown",
   "metadata": {},
   "source": [
    "#### Insert all users data from csv file into database."
   ]
  },
  {
   "cell_type": "code",
   "execution_count": 17,
   "metadata": {},
   "outputs": [],
   "source": [
    "file = 'event_datafile_new.csv'\n",
    "table_name = 'users'\n",
    "\n",
    "# Read file and insert data into database.\n",
    "with open(file, 'r', encoding='utf-8') as rf:\n",
    "    csv_file = csv.reader(rf)\n",
    "    next(csv_file) # Skip column names\n",
    "    for row in csv_file:\n",
    "        insert_data = {\n",
    "            'user_id': int(row[-1]),\n",
    "            'session_id': int(row[8]),\n",
    "            'item_in_session': int(row[3]),\n",
    "            'artist': row[0],\n",
    "            'song_title': row[9],\n",
    "            'first_name': row[1],\n",
    "            'last_name': row[4],\n",
    "        }\n",
    "        conn.insert_data(table_name, insert_data)"
   ]
  },
  {
   "cell_type": "markdown",
   "metadata": {},
   "source": [
    "#### Validate results by getting `artist`, `song_title`(sort by item_in_sesion), `first_name`, `last_name` which conditions of the query is `user_id = 10` and `session_id` = 182\n",
    "\n",
    "#### The query should be presented as following:\n",
    "\n",
    "```sql\n",
    "select artist, song_title, fiest_name, last_name\n",
    "from users\n",
    "where user_id = 10 and session_id = 182\n",
    "```"
   ]
  },
  {
   "cell_type": "code",
   "execution_count": 18,
   "metadata": {},
   "outputs": [
    {
     "name": "stdout",
     "output_type": "stream",
     "text": [
      "Row(artist='Down To The Bone', song_title=\"Keep On Keepin' On\", first_name='Sylvie', last_name='Cruz')\n",
      "Row(artist='Three Drives', song_title='Greece 2000', first_name='Sylvie', last_name='Cruz')\n",
      "Row(artist='Sebastien Tellier', song_title='Kilometer', first_name='Sylvie', last_name='Cruz')\n",
      "Row(artist='Lonnie Gordon', song_title='Catch You Baby (Steve Pitron & Max Sanna Radio Edit)', first_name='Sylvie', last_name='Cruz')\n"
     ]
    }
   ],
   "source": [
    "table_name = 'users'\n",
    "select_columns = ['artist', 'song_title', 'first_name', 'last_name']\n",
    "where_condition = [\n",
    "    {'column_name': 'user_id', 'operator': '=', 'value': 10},\n",
    "    {'column_name': 'session_id', 'operator': '=', 'value': 182},\n",
    "]\n",
    "result = conn.select_query(table_name, where_condition, select_columns)\n",
    "\n",
    "for r in result:\n",
    "    print(r)"
   ]
  },
  {
   "cell_type": "markdown",
   "metadata": {},
   "source": [
    "#### Drop and create song_listen_records to meet query3"
   ]
  },
  {
   "cell_type": "code",
   "execution_count": 19,
   "metadata": {},
   "outputs": [
    {
     "data": {
      "text/plain": [
       "<cassandra.cluster.ResultSet at 0x119062d10>"
      ]
     },
     "execution_count": 19,
     "metadata": {},
     "output_type": "execute_result"
    }
   ],
   "source": [
    "# Define the name of table\n",
    "table_name = 'song_listen_records'\n",
    "\n",
    "# Drop table if exists\n",
    "drop_table_template = \"drop table if exists {table_name}\"\n",
    "conn.session.execute(drop_table_template.format(table_name=table_name))\n",
    "\n",
    "# Create table if not exists\n",
    "create_table_stmt = \"\"\"\n",
    "    create table if not exists {table_name}(\n",
    "        song_title text,\n",
    "        user_id int,       \n",
    "        first_name text,\n",
    "        last_name text,\n",
    "        primary key (song_title, user_id)\n",
    "    )\n",
    "\"\"\"\n",
    "conn.session.execute(create_table_stmt.format(table_name=table_name))"
   ]
  },
  {
   "cell_type": "markdown",
   "metadata": {},
   "source": [
    "#### Insert all song_listen_records data from csv file into database¶"
   ]
  },
  {
   "cell_type": "code",
   "execution_count": 20,
   "metadata": {},
   "outputs": [],
   "source": [
    "file = 'event_datafile_new.csv'\n",
    "table_name = 'song_listen_records'\n",
    "\n",
    "# Read file and insert data into database.\n",
    "with open(file, 'r', encoding='utf-8') as rf:\n",
    "    csv_file = csv.reader(rf)\n",
    "    column_names = next(csv_file)\n",
    "    for row in csv_file:\n",
    "        insert_data = {\n",
    "            'song_title': row[9],\n",
    "            'user_id': int(row[-1]),\n",
    "            'first_name': row[1],\n",
    "            'last_name': row[4],\n",
    "        }\n",
    "        conn.insert_data(table_name, insert_data)                    "
   ]
  },
  {
   "cell_type": "markdown",
   "metadata": {},
   "source": [
    "#### Validate results by getting `first_name` and `last_name` of the users who listened the song 'All Hands Against His Own'\n",
    "\n",
    "#### The query should be presented as following:\n",
    "\n",
    "```sql\n",
    "select first_name, last_name\n",
    "from song_listen_records\n",
    "where song_title = 'All Hands Against His Own'\n",
    "```"
   ]
  },
  {
   "cell_type": "code",
   "execution_count": 21,
   "metadata": {},
   "outputs": [
    {
     "name": "stdout",
     "output_type": "stream",
     "text": [
      "Row(first_name='Jacqueline', last_name='Lynch')\n",
      "Row(first_name='Tegan', last_name='Levine')\n",
      "Row(first_name='Sara', last_name='Johnson')\n"
     ]
    }
   ],
   "source": [
    "table_name = 'song_listen_records'\n",
    "select_columns = ['first_name', 'last_name']\n",
    "where_condition = {'column_name': 'song_title', 'operator': '=', 'value': 'All Hands Against His Own'},\n",
    "\n",
    "result = conn.select_query(table_name, where_condition, select_columns)\n",
    "\n",
    "for r in result:\n",
    "    print(r)"
   ]
  },
  {
   "cell_type": "markdown",
   "metadata": {},
   "source": [
    "### Drop the tables before closing out the sessions"
   ]
  },
  {
   "cell_type": "code",
   "execution_count": 22,
   "metadata": {},
   "outputs": [
    {
     "name": "stdout",
     "output_type": "stream",
     "text": [
      "Successfully drop `user_session_records` table\n",
      "Successfully drop `user_records` table\n",
      "Successfully drop `song_user_records` table\n"
     ]
    }
   ],
   "source": [
    "table_names = ['sessions', 'users', 'song_listen_records']\n",
    "drop_table_template = 'drop table if exists {}'\n",
    "\n",
    "for table_name in table_names:\n",
    "    conn.session.execute(drop_table_template.format(table_name))\n",
    "    print(\"Successfully drop `{}` table\".format(table_name))"
   ]
  },
  {
   "cell_type": "markdown",
   "metadata": {},
   "source": [
    "### Close the session and cluster connection¶"
   ]
  },
  {
   "cell_type": "code",
   "execution_count": 24,
   "metadata": {},
   "outputs": [],
   "source": [
    "# session.shutdown()\n",
    "# cluster.shutdown()\n",
    "conn.disconnect()"
   ]
  },
  {
   "cell_type": "code",
   "execution_count": null,
   "metadata": {},
   "outputs": [],
   "source": []
  },
  {
   "cell_type": "code",
   "execution_count": null,
   "metadata": {},
   "outputs": [],
   "source": []
  }
 ],
 "metadata": {
  "kernelspec": {
   "display_name": "Python 3",
   "language": "python",
   "name": "python3"
  },
  "language_info": {
   "codemirror_mode": {
    "name": "ipython",
    "version": 3
   },
   "file_extension": ".py",
   "mimetype": "text/x-python",
   "name": "python",
   "nbconvert_exporter": "python",
   "pygments_lexer": "ipython3",
   "version": "3.7.8"
  }
 },
 "nbformat": 4,
 "nbformat_minor": 4
}
